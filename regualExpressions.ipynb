{
 "cells": [
  {
   "cell_type": "code",
   "execution_count": 2,
   "id": "d8bb0be8-4989-43d0-8eae-462aa0d1390b",
   "metadata": {},
   "outputs": [
    {
     "name": "stdout",
     "output_type": "stream",
     "text": [
      "findlay_butler@hr.yahoo.com,Fbutler-hr,Fbutler39610129\n",
      "cain_mosley@finance.yahoo.com,Cmosley-finance,Cmosley30366833\n",
      "donna_beltran@accounting.yahoo.com,Dbeltran-accounting,Dbeltran53035158\n",
      "sian_ramirez@sales.yahoo.com,Sramirez-sales,Sramirez94515169\n",
      "angelo_fulton@it.yahoo.com,Afulton-it,Afulton93253766\n",
      "daniyal_castro@ops.yahoo.com,Dcastro-ops,Dcastro52591657\n",
      "cayden_morrison@purchasing.yahoo.com,Cmorrison-purchasing,Cmorrison28016192\n",
      "amir_haney@randd.yahoo.com,Ahaney-randd,Ahaney46761848\n",
      "olive_fowler@production.yahoo.com,Ofowler-production,Ofowler47750087\n",
      "ernest_bauer@marketing.yahoo.com,Ebauer-marketing,Ebauer98421223\n",
      "isla_burnett@leadership.yahoo.com,Iburnett-leadership,Iburnett74544804\n",
      "albert_velazquez@sales.yahoo.com,Avelazquez-sales,Avelazquez94909764\n",
      "filip_donovan@it.yahoo.com,Fdonovan-it,Fdonovan93790378\n",
      "hamza_crawford@ops.yahoo.com,Hcrawford-ops,Hcrawford94906836\n",
      "astrid_obrien@purchasing.yahoo.com,Aobrien-purchasing,Aobrien87748130\n",
      "milan_odling@randd.yahoo.com,Modling-randd,Modling42327266\n",
      "ruairi_stevenson@production.yahoo.com,Rstevenson-production,Rstevenson42345987\n",
      "ria_bonner@marketing.yahoo.com,Rbonner-marketing,Rbonner48908514\n",
      "ela_hicks@leadership.yahoo.com,Ehicks-leadership,Ehicks80040072\n",
      "aron_bean@finance.yahoo.com,Abean-finance,Abean88209598\n",
      "woody_gardner@accounting.yahoo.com,Wgardner-accounting,Wgardner02236918\n",
      "clyde_stokes@sales.yahoo.com,Cstokes-sales,Cstokes09969571\n",
      "samantha_harrison@it.yahoo.com,Sharrison-it,Sharrison41857495\n",
      "gina_mason@finance.yahoo.com,Gmason-finance,Gmason19277831\n",
      "hollie_vance@accounting.yahoo.com,Hvance-accounting,Hvance27638022\n",
      "tillie_villa@sales.yahoo.com,Tvilla-sales,Tvilla78037941\n",
      "jacqueline_dean@it.yahoo.com,Jdean-it,Jdean28980410\n",
      "xavier_vaughn@finance.yahoo.com,Xvaughn-finance,Xvaughn19013833\n",
      "elif_pace@accounting.yahoo.com,Epace-accounting,Epace75906852\n",
      "thalia_duran@sales.yahoo.com,Tduran-sales,Tduran76904571\n",
      "lacey_fields@it.yahoo.com,Lfields-it,Lfields34405056\n",
      "abi_hamilton@accounting.yahoo.com,Ahamilton-accounting,Ahamilton76560605\n",
      "carys_ward@sales.yahoo.com,Cward-sales,Cward30482860\n",
      "philippa_velez@accounting.yahoo.com,Pvelez-accounting,Pvelez86588407\n",
      "annie_chen@sales.yahoo.com,Achen-sales,Achen32693229\n",
      "rhonda_sears@accounting.yahoo.com,Rsears-accounting,Rsears53906650\n",
      "casey_bullock@sales.yahoo.com,Cbullock-sales,Cbullock80929397\n",
      "lily-may_morgan@accounting.yahoo.com,Lmorgan-accounting,Lmorgan08042367\n",
      "jak_garner@sales.yahoo.com,Jgarner-sales,Jgarner08653872\n",
      "abbas_hines@accounting.yahoo.com,Ahines-accounting,Ahines36768621\n",
      "amira_gill@sales.yahoo.com,Agill-sales,Agill51775176\n",
      "jaime_watkins@accounting.yahoo.com,Jwatkins-accounting,Jwatkins73510501\n",
      "noor_mccall@sales.yahoo.com,Nmccall-sales,Nmccall97869926\n",
      "jasper_norris@ops.yahoo.com,Jnorris-ops,Jnorris02256919\n",
      "olivier_roach@ops.yahoo.com,Oroach-ops,Oroach34823875\n",
      "dhruv_callahan@ops.yahoo.com,Dcallahan-ops,Dcallahan00326224\n",
      "anjali_meyer@hr.yahoo.com,Ameyer-hr,Ameyer65134953\n",
      "mae_noble@hr.yahoo.com,Mnoble-hr,Mnoble02927966\n",
      "brogan_fitzpatrick@hr.yahoo.com,Bfitzpatrick-hr,Bfitzpatrick80679935\n",
      "haris_clayton@hr.yahoo.com,Hclayton-hr,Hclayton55288646\n",
      "\n"
     ]
    }
   ],
   "source": [
    "import re #import re for search method and regular expressions.\n",
    "from random import randint, randrange #import random for password\n",
    "usernames = []#blank array which will be filled with final login credentials/information for each person.\n",
    "with open(\"emails.txt\", \"r\") as file: #opens the email text file as read.\n",
    "    for line in file:\n",
    "        matches = re.search(r\"(.+)_(.+)@(.+)\\.yahoo\\.com\", line)#seaches for matches in each line in the format firstname_lastname@department.yahoo.com\n",
    "        if matches:\n",
    "            name = matches.group(1)[0].upper() + matches.group(2) + \"-\" + matches.group(3) #username (FirstInitial+lastname-department)\n",
    "            password = matches.group(1)[0].upper() + matches.group(2) + ''.join([\"{}\".format(randint(0, 9)) for num in range(0, 8)])#password (FirstInitial+lastname+random8 num\n",
    "            if name in usernames:#checks to see if the username already exists. If it does add an extra number in username ex. Fbutler2-hr (instead of Fbutler-hr)\n",
    "                 name = (matches.group(1)[0].upper() + (matches.group(2) + usernames.count(name) + 1) + \"-\" + matches.group(3))\n",
    "                 password = matches.group(1)[0].upper() + matches.group(2) + ''.join(\n",
    "                     [\"{}\".format(randint(0, 9)) for num in range(0, 9)])\n",
    "                 usernames.append(line[-1] + \",\" + name + \",\" + password)\n",
    "            else:\n",
    "                usernames.append(line[:-1] + \",\" + name + \",\" + password)\n",
    "with open(\"accounts.csv\", \"w\") as file: #creates new file named accounts.csv\n",
    "    for i in usernames:\n",
    "        file.write(i + \"\\n\")#writes each account onto a new line in the file.\n",
    "final = open(\"accounts.csv\", \"r\")\n",
    "txt = final.read()\n",
    "print(txt)#prints the file\n",
    "final.close()#close the file."
   ]
  },
  {
   "cell_type": "code",
   "execution_count": 3,
   "id": "6841447a-c150-4c77-9762-a2ac921d355b",
   "metadata": {},
   "outputs": [
    {
     "name": "stdout",
     "output_type": "stream",
     "text": [
      "SQL Injection Detected! User tried to input [\"select count(salary) as count fromempsalary where ispermanent='yes' and salary>5000;\", \"select * from employee where emaildid like '%@gmail.com';\", \"select * fromemployee where department='E-102' or department='E-104';\", \"select sum(salary) as salary from empsalary where ispermanent='yes';\", \"select deptname from empdept where deptid ='E-102';\", 'select count(empid) as employee, projectid from empproject group byprojectid;', 'select count(projectid) as project from empproject where startyear=endyear;', 'select count(projectid) as project from empproject where startyear=2010;']\n",
      "8\n"
     ]
    }
   ],
   "source": [
    "import re\n",
    "with open(\"regex_input1.txt\", \"r\") as file:# open text file as read\n",
    "    text = \"\".join(line.rstrip() for line in file)# strip all of the new line characters to make one long text string.\n",
    "    matches = re.sub(r\"select+ .+?;\", \"[COMMAND DETECTED]\", text)#search the new text string for any matches starting at \"select\" followed by any amount of characters followed by one instance of \";\" and then replace the match with [COMMAND DETECTED]\n",
    "    commands = re.findall(r\"select+ .+?;\", text) #does the same thing as the line above except doesnt replace but retruns a list of all the commands.\n",
    "    if len(commands) != 0:# if there are SQL Injections print out the commands tried.\n",
    "        print(f\"SQL Injection Detected! User tried to input {commands}\")\n",
    "        print(len(commands))\n",
    "    else:\n",
    "        print(\"Success!\")#else there are no commands and it was successfull."
   ]
  },
  {
   "cell_type": "code",
   "execution_count": 4,
   "id": "0992c52b-024d-41f4-95eb-37aeb3bfddf5",
   "metadata": {},
   "outputs": [
    {
     "name": "stdout",
     "output_type": "stream",
     "text": [
      "Success!\n"
     ]
    }
   ],
   "source": [
    "import re\n",
    "with open(\"regex_input2.txt\", \"r\") as file:#open file as read.\n",
    "    text = \"\".join(line.rstrip() for line in file)# strips each line of its indent and joins them together.\n",
    "    matches = re.sub(r\"select+ .+?;\", \"[COMMAND DETECTED]\", text)#search the new text string for any matches starting at \"select\" followed by any amount of characters followed by one instance of \";\" and then replace the match with [COMMAND DETECTED]\n",
    "    commands = re.findall(r\"select+ .[^,]+?;\", text) #does the same thing as the line above except doesnt replace but retruns a list of all the commands.\n",
    "    print(\"Success!\")"
   ]
  }
 ],
 "metadata": {
  "kernelspec": {
   "display_name": "Python 3 (ipykernel)",
   "language": "python",
   "name": "python3"
  },
  "language_info": {
   "codemirror_mode": {
    "name": "ipython",
    "version": 3
   },
   "file_extension": ".py",
   "mimetype": "text/x-python",
   "name": "python",
   "nbconvert_exporter": "python",
   "pygments_lexer": "ipython3",
   "version": "3.10.12"
  }
 },
 "nbformat": 4,
 "nbformat_minor": 5
}
