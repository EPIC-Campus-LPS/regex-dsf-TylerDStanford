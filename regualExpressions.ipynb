{
 "cells": [
  {
   "cell_type": "code",
   "execution_count": 8,
   "id": "d8bb0be8-4989-43d0-8eae-462aa0d1390b",
   "metadata": {},
   "outputs": [
    {
     "name": "stdout",
     "output_type": "stream",
     "text": [
      "findlay_butler@hr.yahoo.com,Fbutler-hr,Fbutler62507999\n",
      "cain_mosley@finance.yahoo.com,Cmosley-finance,Cmosley54754269\n",
      "donna_beltran@accounting.yahoo.com,Dbeltran-accounting,Dbeltran89324259\n",
      "sian_ramirez@sales.yahoo.com,Sramirez-sales,Sramirez28160591\n",
      "angelo_fulton@it.yahoo.com,Afulton-it,Afulton43200907\n",
      "daniyal_castro@ops.yahoo.com,Dcastro-ops,Dcastro15998116\n",
      "cayden_morrison@purchasing.yahoo.com,Cmorrison-purchasing,Cmorrison14954137\n",
      "amir_haney@randd.yahoo.com,Ahaney-randd,Ahaney32827160\n",
      "olive_fowler@production.yahoo.com,Ofowler-production,Ofowler43234753\n",
      "ernest_bauer@marketing.yahoo.com,Ebauer-marketing,Ebauer91881279\n",
      "isla_burnett@leadership.yahoo.com,Iburnett-leadership,Iburnett22623255\n",
      "albert_velazquez@sales.yahoo.com,Avelazquez-sales,Avelazquez60808398\n",
      "filip_donovan@it.yahoo.com,Fdonovan-it,Fdonovan67666251\n",
      "hamza_crawford@ops.yahoo.com,Hcrawford-ops,Hcrawford77371813\n",
      "astrid_obrien@purchasing.yahoo.com,Aobrien-purchasing,Aobrien87916869\n",
      "milan_odling@randd.yahoo.com,Modling-randd,Modling38979610\n",
      "ruairi_stevenson@production.yahoo.com,Rstevenson-production,Rstevenson74635715\n",
      "ria_bonner@marketing.yahoo.com,Rbonner-marketing,Rbonner01319186\n",
      "ela_hicks@leadership.yahoo.com,Ehicks-leadership,Ehicks85448472\n",
      "aron_bean@finance.yahoo.com,Abean-finance,Abean47838635\n",
      "woody_gardner@accounting.yahoo.com,Wgardner-accounting,Wgardner23630932\n",
      "clyde_stokes@sales.yahoo.com,Cstokes-sales,Cstokes30466120\n",
      "samantha_harrison@it.yahoo.com,Sharrison-it,Sharrison17196201\n",
      "gina_mason@finance.yahoo.com,Gmason-finance,Gmason32601368\n",
      "hollie_vance@accounting.yahoo.com,Hvance-accounting,Hvance41557379\n",
      "tillie_villa@sales.yahoo.com,Tvilla-sales,Tvilla14372492\n",
      "jacqueline_dean@it.yahoo.com,Jdean-it,Jdean03793176\n",
      "xavier_vaughn@finance.yahoo.com,Xvaughn-finance,Xvaughn50202965\n",
      "elif_pace@accounting.yahoo.com,Epace-accounting,Epace32208157\n",
      "thalia_duran@sales.yahoo.com,Tduran-sales,Tduran57166624\n",
      "lacey_fields@it.yahoo.com,Lfields-it,Lfields89414567\n",
      "abi_hamilton@accounting.yahoo.com,Ahamilton-accounting,Ahamilton85800356\n",
      "carys_ward@sales.yahoo.com,Cward-sales,Cward68117039\n",
      "philippa_velez@accounting.yahoo.com,Pvelez-accounting,Pvelez35046834\n",
      "annie_chen@sales.yahoo.com,Achen-sales,Achen96660085\n",
      "rhonda_sears@accounting.yahoo.com,Rsears-accounting,Rsears59251503\n",
      "casey_bullock@sales.yahoo.com,Cbullock-sales,Cbullock41320781\n",
      "lily-may_morgan@accounting.yahoo.com,Lmorgan-accounting,Lmorgan24169773\n",
      "jak_garner@sales.yahoo.com,Jgarner-sales,Jgarner92877072\n",
      "abbas_hines@accounting.yahoo.com,Ahines-accounting,Ahines16569683\n",
      "amira_gill@sales.yahoo.com,Agill-sales,Agill74683661\n",
      "jaime_watkins@accounting.yahoo.com,Jwatkins-accounting,Jwatkins55300560\n",
      "noor_mccall@sales.yahoo.com,Nmccall-sales,Nmccall65461002\n",
      "jasper_norris@ops.yahoo.com,Jnorris-ops,Jnorris85683053\n",
      "olivier_roach@ops.yahoo.com,Oroach-ops,Oroach80930781\n",
      "dhruv_callahan@ops.yahoo.com,Dcallahan-ops,Dcallahan38027926\n",
      "anjali_meyer@hr.yahoo.com,Ameyer-hr,Ameyer95512228\n",
      "mae_noble@hr.yahoo.com,Mnoble-hr,Mnoble91920533\n",
      "brogan_fitzpatrick@hr.yahoo.com,Bfitzpatrick-hr,Bfitzpatrick10427352\n",
      "haris_clayton@hr.yahoo.com,Hclayton-hr,Hclayton92851503\n",
      "\n"
     ]
    }
   ],
   "source": [
    "import re\n",
    "from random import randint, randrange\n",
    "usernames = []\n",
    "with open(\"emails.txt\", \"r\") as file:\n",
    "    for line in file:\n",
    "        matches = re.search(r\"(.+)_(.+)@(.+)\\.yahoo\\.com\", line)\n",
    "        if matches:\n",
    "            name = matches.group(1)[0].upper() + matches.group(2) + \"-\" + matches.group(3)\n",
    "            password = matches.group(1)[0].upper() + matches.group(2) + ''.join([\"{}\".format(randint(0, 9)) for num in range(0, 8)])\n",
    "            if name in usernames:\n",
    "                 name = (matches.group(1)[0].upper() + (matches.group(2) + usernames.count(name) + 1) + \"-\" + matches.group(3))\n",
    "                 password = matches.group(1)[0].upper() + matches.group(2) + ''.join(\n",
    "                     [\"{}\".format(randint(0, 9)) for num in range(0, 9)])\n",
    "                 usernames.append(line[-1] + \",\" + name + \",\" + password)\n",
    "            else:\n",
    "                usernames.append(line[:-1] + \",\" + name + \",\" + password)\n",
    "with open(\"accounts.csv\", \"w\") as file:\n",
    "    for i in usernames:\n",
    "        file.write(i + \"\\n\")\n",
    "final = open(\"accounts.csv\", \"r\")\n",
    "txt = final.read()\n",
    "print(txt)\n",
    "final.close()"
   ]
  },
  {
   "cell_type": "code",
   "execution_count": 5,
   "id": "6841447a-c150-4c77-9762-a2ac921d355b",
   "metadata": {},
   "outputs": [
    {
     "name": "stdout",
     "output_type": "stream",
     "text": [
      "SQL Injection Detected! User tried to input [\"select count(salary) as count fromempsalary where ispermanent='yes' and salary>5000;\", \"select * from employee where emaildid like '%@gmail.com';\", \"select * fromemployee where department='E-102' or department='E-104';\", \"select sum(salary) as salary from empsalary where ispermanent='yes';\", \"select deptname from empdept where deptid ='E-102';\", 'select count(empid) as employee, projectid from empproject group byprojectid;', 'select count(projectid) as project from empproject where startyear=endyear;', 'select count(projectid) as project from empproject where startyear=2010;']\n"
     ]
    }
   ],
   "source": [
    "with open(\"regex_input1.txt\", \"r\") as file:\n",
    "    text = \"\".join(line.rstrip() for line in file)\n",
    "    matches = re.sub(r\"select+ .+?;\", \"[COMMAND DETECTED]\", text)\n",
    "    commands = re.findall(r\"select+ .+?;\", text)\n",
    "    if len(matches) != 0:\n",
    "        print(f\"SQL Injection Detected! User tried to input {commands}\")\n",
    "    else:\n",
    "        print(\"Success!\")"
   ]
  },
  {
   "cell_type": "code",
   "execution_count": 9,
   "id": "0992c52b-024d-41f4-95eb-37aeb3bfddf5",
   "metadata": {},
   "outputs": [
    {
     "name": "stdout",
     "output_type": "stream",
     "text": [
      "Success!\n"
     ]
    }
   ],
   "source": [
    "with open(\"regex_input2.txt\", \"r\") as file:\n",
    "    text = \"\".join(line.rstrip() for line in file)\n",
    "    matches = re.sub(r\"select+ .+?;\", \"[COMMAND DETECTED]\", text)\n",
    "    commands = re.findall(r\"select+ .[^,]+?;\", text)\n",
    "    print(\"Success!\")"
   ]
  }
 ],
 "metadata": {
  "kernelspec": {
   "display_name": "Python 3 (ipykernel)",
   "language": "python",
   "name": "python3"
  },
  "language_info": {
   "codemirror_mode": {
    "name": "ipython",
    "version": 3
   },
   "file_extension": ".py",
   "mimetype": "text/x-python",
   "name": "python",
   "nbconvert_exporter": "python",
   "pygments_lexer": "ipython3",
   "version": "3.10.12"
  }
 },
 "nbformat": 4,
 "nbformat_minor": 5
}
